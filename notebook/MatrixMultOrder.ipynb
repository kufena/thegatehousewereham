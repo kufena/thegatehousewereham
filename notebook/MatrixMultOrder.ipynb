{
 "cells": [
  {
   "cell_type": "code",
   "execution_count": 19,
   "metadata": {},
   "outputs": [],
   "source": [
    "type matrix = { \n",
    "                rows : int\n",
    "                cols : int\n",
    "                name : string\n",
    "              }"
   ]
  },
  {
   "cell_type": "code",
   "execution_count": 20,
   "metadata": {},
   "outputs": [],
   "source": [
    "let f = { rows = 10; cols = 20; name = \"M\" }\n",
    "let g = { rows = 20; cols = 7; name = \"N\"}\n",
    "let mats = [| {rows=10;cols=2;name=\"A\"}; \n",
    "              {rows=2; cols=100;name=\"B\"}; \n",
    "              {rows=100;cols=50;name=\"C\"}; \n",
    "              {rows=50;cols=7;name=\"D\"};\n",
    "              {rows=7;cols=2;name=\"E\"}\n",
    "           |]"
   ]
  },
  {
   "cell_type": "markdown",
   "metadata": {},
   "source": [
    "The matrix type has rows and columns, but also a name.  This is so we can multiply matrices and combine their names to show the order we have multiplied.  For instance a matrix \"A\" and \"B\" becomes \"(AB)\", or  \"A\" and \"(B(CD))\" becomes \"(A(B(CD)))\"."
   ]
  },
  {
   "cell_type": "code",
   "execution_count": 33,
   "metadata": {},
   "outputs": [
    {
     "ename": "Unhandled Exception",
     "evalue": "input.fsx (6,73)-(6,78) typecheck error This value is not a function and cannot be applied.",
     "output_type": "error",
     "traceback": [
      "input.fsx (6,73)-(6,78) typecheck error This value is not a function and cannot be applied."
     ]
    }
   ],
   "source": [
    "let mult (m:matrix) (n:matrix) \n",
    "        = match m with\n",
    "               | { rows = mrows; cols = mcols; name = mname } ->\n",
    "                 match n with\n",
    "                 | { rows = nrows; cols = ncols; name = nname } ->\n",
    "                    { rows = mrows; cols = ncols; name = (\"(\" + mname + nname \")\")  }\n",
    "mult f g"
   ]
  }
 ],
 "metadata": {
  "kernelspec": {
   "display_name": ".NET (F#)",
   "language": "F#",
   "name": ".net-fsharp"
  },
  "language_info": {
   "file_extension": ".fs",
   "mimetype": "text/x-fsharp",
   "name": "C#",
   "pygments_lexer": "fsharp",
   "version": "4.5"
  }
 },
 "nbformat": 4,
 "nbformat_minor": 2
}
