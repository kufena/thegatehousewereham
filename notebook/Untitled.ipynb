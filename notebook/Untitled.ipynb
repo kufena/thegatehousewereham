{
 "cells": [
  {
   "cell_type": "code",
   "execution_count": 1,
   "metadata": {},
   "outputs": [],
   "source": [
    "type matrix = { \n",
    "                rows : int\n",
    "                cols : int\n",
    "                name : string\n",
    "              }"
   ]
  },
  {
   "cell_type": "code",
   "execution_count": 9,
   "metadata": {},
   "outputs": [
    {
     "ename": "Unhandled Exception",
     "evalue": "input.fsx (2,48)-(2,68) typecheck error This expression was expected to have type\n    'int'    \nbut here has type\n    ''a * 'b * 'c'    \r\nA ';' is used to separate field values in records. Consider replacing ',' with ';'.\ninput.fsx (2,42)-(2,69) typecheck error No assignment given for field 'cols' of type 'FSI_0004.matrix'",
     "output_type": "error",
     "traceback": [
      "input.fsx (2,48)-(2,68) typecheck error This expression was expected to have type\n    'int'    \nbut here has type\n    ''a * 'b * 'c'    \r\nA ';' is used to separate field values in records. Consider replacing ',' with ';'.\ninput.fsx (2,42)-(2,69) typecheck error No assignment given for field 'cols' of type 'FSI_0004.matrix'"
     ]
    }
   ],
   "source": [
    "let f = { rows = 10; cols = 20; name = \"A\" }\n",
    "let mats = [| {rows=10;cols=2;name=\"A\"}; \n",
    "              {rows=2, cols=100,name=\"B\"}; \n",
    "              {rows=100;cols=50;name=\"C\"}; \n",
    "              {rows=50;cols=7;name=\"D\"};\n",
    "              {rows=7;cols=2;name=\"E\"}\n",
    "           |]"
   ]
  },
  {
   "cell_type": "code",
   "execution_count": null,
   "metadata": {},
   "outputs": [],
   "source": []
  },
  {
   "cell_type": "markdown",
   "metadata": {},
   "source": [
    "The matrix type has rows and columns, but also a name.  This is so we can multiply matrices and combine their names to show the order we have multiplied.  For instance a matrix \"A\" and \"B\" becomes \"(AB)\", or  \"A\" and \"(B(CD))\" becomes \"(A(B(CD)))\"."
   ]
  }
 ],
 "metadata": {
  "kernelspec": {
   "display_name": ".NET (F#)",
   "language": "F#",
   "name": ".net-fsharp"
  },
  "language_info": {
   "file_extension": ".fs",
   "mimetype": "text/x-fsharp",
   "name": "C#",
   "pygments_lexer": "fsharp",
   "version": "4.5"
  }
 },
 "nbformat": 4,
 "nbformat_minor": 2
}
